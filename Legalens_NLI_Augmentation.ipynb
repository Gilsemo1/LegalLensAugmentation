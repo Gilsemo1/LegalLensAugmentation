{
 "cells": [
  {
   "cell_type": "code",
   "execution_count": null,
   "metadata": {
    "application/vnd.databricks.v1+cell": {
     "cellMetadata": {
      "byteLimit": 2048000,
      "rowLimit": 10000
     },
     "inputWidgets": {},
     "nuid": "fc497247-df75-43c9-9892-b00ffbeb6ac3",
     "showTitle": false,
     "title": ""
    }
   },
   "outputs": [
    {
     "name": "stdout",
     "output_type": "stream",
     "text": [
      "\u001b[43mNote: you may need to restart the kernel using dbutils.library.restartPython() to use updated packages.\u001b[0m\n",
      "ERROR: pip's dependency resolver does not currently take into account all the packages that are installed. This behaviour is the source of the following dependency conflicts.\n",
      "petastorm 0.12.1 requires pyspark>=2.1.0, which is not installed.\n",
      "nbclassic 0.5.2 requires prometheus-client, which is not installed.\n",
      "jupyter-server 1.23.4 requires prometheus-client, which is not installed.\n",
      "databricks-feature-store 0.16.4 requires pyspark<4,>=3.1.2, which is not installed.\n",
      "mlflow-skinny 2.8.1 requires packaging<24, but you have packaging 24.1 which is incompatible.\n",
      "\u001b[43mNote: you may need to restart the kernel using dbutils.library.restartPython() to use updated packages.\u001b[0m\n",
      "\u001b[43mNote: you may need to restart the kernel using dbutils.library.restartPython() to use updated packages.\u001b[0m\n",
      "\u001b[43mNote: you may need to restart the kernel using dbutils.library.restartPython() to use updated packages.\u001b[0m\n"
     ]
    }
   ],
   "source": [
    "!pip install -q -U langchain transformers bitsandbytes accelerate \n",
    "!pip install -q langchain-community langchain-core"
   ]
  },
  {
   "cell_type": "code",
   "execution_count": null,
   "metadata": {
    "application/vnd.databricks.v1+cell": {
     "cellMetadata": {
      "byteLimit": 2048000,
      "rowLimit": 10000
     },
     "inputWidgets": {},
     "nuid": "77adcf03-1f04-459f-ba95-45be65e1c723",
     "showTitle": false,
     "title": ""
    }
   },
   "outputs": [
    {
     "name": "stderr",
     "output_type": "stream",
     "text": [
      "2024-07-11 06:43:00.828191: I tensorflow/core/util/port.cc:111] oneDNN custom operations are on. You may see slightly different numerical results due to floating-point round-off errors from different computation orders. To turn them off, set the environment variable `TF_ENABLE_ONEDNN_OPTS=0`.\n",
      "2024-07-11 06:43:01.634995: E tensorflow/compiler/xla/stream_executor/cuda/cuda_dnn.cc:9342] Unable to register cuDNN factory: Attempting to register factory for plugin cuDNN when one has already been registered\n",
      "2024-07-11 06:43:01.635042: E tensorflow/compiler/xla/stream_executor/cuda/cuda_fft.cc:609] Unable to register cuFFT factory: Attempting to register factory for plugin cuFFT when one has already been registered\n",
      "2024-07-11 06:43:01.639516: E tensorflow/compiler/xla/stream_executor/cuda/cuda_blas.cc:1518] Unable to register cuBLAS factory: Attempting to register factory for plugin cuBLAS when one has already been registered\n",
      "2024-07-11 06:43:02.030492: I tensorflow/core/platform/cpu_feature_guard.cc:182] This TensorFlow binary is optimized to use available CPU instructions in performance-critical operations.\n",
      "To enable the following instructions: AVX2 AVX512F AVX512_VNNI FMA, in other operations, rebuild TensorFlow with the appropriate compiler flags.\n"
     ]
    }
   ],
   "source": [
    "import torch\n",
    "import pandas as pd\n",
    "from transformers import BitsAndBytesConfig\n",
    "from langchain import HuggingFacePipeline\n",
    "from langchain import PromptTemplate, LLMChain\n",
    "from transformers import AutoModelForCausalLM, AutoTokenizer, pipeline"
   ]
  },
  {
   "cell_type": "code",
   "execution_count": null,
   "metadata": {
    "application/vnd.databricks.v1+cell": {
     "cellMetadata": {
      "byteLimit": 2048000,
      "rowLimit": 10000
     },
     "inputWidgets": {},
     "nuid": "f21f8d5c-02d5-4eb6-b4a8-e35438c0d104",
     "showTitle": false,
     "title": ""
    }
   },
   "outputs": [],
   "source": [
    "quantization_config = BitsAndBytesConfig(\n",
    "    load_in_4bit=True,\n",
    "    bnb_4bit_compute_dtype=torch.float16,\n",
    "    bnb_4bit_quant_type=\"nf4\",\n",
    "    bnb_4bit_use_double_quant=True,\n",
    ")\n"
   ]
  },
  {
   "cell_type": "code",
   "execution_count": null,
   "metadata": {
    "application/vnd.databricks.v1+cell": {
     "cellMetadata": {
      "byteLimit": 2048000,
      "rowLimit": 10000
     },
     "inputWidgets": {},
     "nuid": "ce2369a1-e647-4ebd-91da-b5a88e809469",
     "showTitle": false,
     "title": ""
    }
   },
   "outputs": [
    {
     "data": {
      "application/vnd.jupyter.widget-view+json": {
       "model_id": "75cbe0084ddf419ea00bd28b98638087",
       "version_major": 2,
       "version_minor": 0
      },
      "text/plain": [
       "VBox(children=(HTML(value='<center> <img\\nsrc=https://huggingface.co/front/assets/huggingface_logo-noborder.sv…"
      ]
     },
     "metadata": {},
     "output_type": "display_data"
    }
   ],
   "source": [
    "from huggingface_hub import login\n",
    "login()"
   ]
  },
  {
   "cell_type": "code",
   "execution_count": null,
   "metadata": {
    "application/vnd.databricks.v1+cell": {
     "cellMetadata": {
      "byteLimit": 2048000,
      "rowLimit": 10000
     },
     "inputWidgets": {},
     "nuid": "9058a396-6325-468d-87f6-2381ad55f308",
     "showTitle": false,
     "title": ""
    }
   },
   "outputs": [
    {
     "data": {
      "application/vnd.jupyter.widget-view+json": {
       "model_id": "78772dab6cef47b7a2c587ac3a4b2973",
       "version_major": 2,
       "version_minor": 0
      },
      "text/plain": [
       "config.json:   0%|          | 0.00/571 [00:00<?, ?B/s]"
      ]
     },
     "metadata": {},
     "output_type": "display_data"
    },
    {
     "data": {
      "application/vnd.jupyter.widget-view+json": {
       "model_id": "fa30603b7bdd416d8613fcc68eb7559d",
       "version_major": 2,
       "version_minor": 0
      },
      "text/plain": [
       "model.safetensors.index.json:   0%|          | 0.00/25.1k [00:00<?, ?B/s]"
      ]
     },
     "metadata": {},
     "output_type": "display_data"
    },
    {
     "data": {
      "application/vnd.jupyter.widget-view+json": {
       "model_id": "718b461e1b4d4df38e8748b84f5fa9b7",
       "version_major": 2,
       "version_minor": 0
      },
      "text/plain": [
       "Downloading shards:   0%|          | 0/2 [00:00<?, ?it/s]"
      ]
     },
     "metadata": {},
     "output_type": "display_data"
    },
    {
     "data": {
      "application/vnd.jupyter.widget-view+json": {
       "model_id": "41da2281f6f04442b9fec8a450b4878d",
       "version_major": 2,
       "version_minor": 0
      },
      "text/plain": [
       "model-00001-of-00002.safetensors:   0%|          | 0.00/9.94G [00:00<?, ?B/s]"
      ]
     },
     "metadata": {},
     "output_type": "display_data"
    },
    {
     "data": {
      "application/vnd.jupyter.widget-view+json": {
       "model_id": "12593da9eec84953a1a7708126fabea1",
       "version_major": 2,
       "version_minor": 0
      },
      "text/plain": [
       "model-00002-of-00002.safetensors:   0%|          | 0.00/4.54G [00:00<?, ?B/s]"
      ]
     },
     "metadata": {},
     "output_type": "display_data"
    },
    {
     "data": {
      "application/vnd.jupyter.widget-view+json": {
       "model_id": "00c942ae88574102954ad4813a47c587",
       "version_major": 2,
       "version_minor": 0
      },
      "text/plain": [
       "Loading checkpoint shards:   0%|          | 0/2 [00:00<?, ?it/s]"
      ]
     },
     "metadata": {},
     "output_type": "display_data"
    },
    {
     "data": {
      "application/vnd.jupyter.widget-view+json": {
       "model_id": "e636a8e497274b4aa4354ca48e7f24a3",
       "version_major": 2,
       "version_minor": 0
      },
      "text/plain": [
       "generation_config.json:   0%|          | 0.00/116 [00:00<?, ?B/s]"
      ]
     },
     "metadata": {},
     "output_type": "display_data"
    },
    {
     "data": {
      "application/vnd.jupyter.widget-view+json": {
       "model_id": "6881d47412b445a0b3ce099295f0c95f",
       "version_major": 2,
       "version_minor": 0
      },
      "text/plain": [
       "tokenizer_config.json:   0%|          | 0.00/2.10k [00:00<?, ?B/s]"
      ]
     },
     "metadata": {},
     "output_type": "display_data"
    },
    {
     "data": {
      "application/vnd.jupyter.widget-view+json": {
       "model_id": "a558257496c4434fb42c7db7e3b50498",
       "version_major": 2,
       "version_minor": 0
      },
      "text/plain": [
       "tokenizer.model:   0%|          | 0.00/493k [00:00<?, ?B/s]"
      ]
     },
     "metadata": {},
     "output_type": "display_data"
    },
    {
     "data": {
      "application/vnd.jupyter.widget-view+json": {
       "model_id": "c20f9cffa7c1430193b103729fb268d9",
       "version_major": 2,
       "version_minor": 0
      },
      "text/plain": [
       "tokenizer.json:   0%|          | 0.00/1.80M [00:00<?, ?B/s]"
      ]
     },
     "metadata": {},
     "output_type": "display_data"
    },
    {
     "data": {
      "application/vnd.jupyter.widget-view+json": {
       "model_id": "707c736c45ef409d8aa9d7ca6d3e68be",
       "version_major": 2,
       "version_minor": 0
      },
      "text/plain": [
       "special_tokens_map.json:   0%|          | 0.00/414 [00:00<?, ?B/s]"
      ]
     },
     "metadata": {},
     "output_type": "display_data"
    }
   ],
   "source": [
    "model_4bit = AutoModelForCausalLM.from_pretrained( \"mistralai/Mistral-7B-Instruct-v0.1\", device_map=\"auto\",quantization_config=quantization_config, )\n",
    "tokenizer = AutoTokenizer.from_pretrained(\"mistralai/Mistral-7B-Instruct-v0.1\")"
   ]
  },
  {
   "cell_type": "code",
   "execution_count": null,
   "metadata": {
    "application/vnd.databricks.v1+cell": {
     "cellMetadata": {
      "byteLimit": 2048000,
      "rowLimit": 10000
     },
     "inputWidgets": {},
     "nuid": "0004d9e7-a3f1-45b1-af2a-4fe922c4c4e0",
     "showTitle": false,
     "title": ""
    }
   },
   "outputs": [],
   "source": [
    "pipeline_inst = pipeline(\n",
    "        \"text-generation\",\n",
    "        model=model_4bit,\n",
    "        tokenizer=tokenizer,\n",
    "        use_cache=True,\n",
    "        device_map=\"auto\",\n",
    "        max_length=512,\n",
    "        do_sample=True,\n",
    "        top_k=5,\n",
    "        num_return_sequences=1,\n",
    "        eos_token_id=tokenizer.eos_token_id,\n",
    "        pad_token_id=tokenizer.eos_token_id,\n",
    ")\n",
    "\n",
    "hfp = HuggingFacePipeline(pipeline=pipeline_inst)"
   ]
  },
  {
   "cell_type": "code",
   "execution_count": null,
   "metadata": {
    "application/vnd.databricks.v1+cell": {
     "cellMetadata": {
      "byteLimit": 2048000,
      "rowLimit": 10000
     },
     "inputWidgets": {},
     "nuid": "00175547-6643-445c-9f46-0270eaabdddb",
     "showTitle": false,
     "title": ""
    }
   },
   "outputs": [],
   "source": [
    "template = \"\"\"Question:Translate the following text into spanish: {text}\n",
    "OUTPUT:\"\"\"\n",
    "prompt_translate = PromptTemplate.from_template(template)\n",
    "chain_translate = prompt_translate | hfp\n",
    "\n",
    "\n",
    "template = \"\"\"Question: rephrase the following text - {text}\n",
    "OUTPUT:\"\"\"\n",
    "prompt = PromptTemplate.from_template(template)\n",
    "chain_rephrase = prompt | hfp\n"
   ]
  },
  {
   "cell_type": "code",
   "execution_count": null,
   "metadata": {
    "application/vnd.databricks.v1+cell": {
     "cellMetadata": {
      "byteLimit": 2048000,
      "rowLimit": 10000
     },
     "inputWidgets": {},
     "nuid": "579b96da-a246-4f39-a2d4-78b363bb6122",
     "showTitle": false,
     "title": ""
    }
   },
   "outputs": [],
   "source": [
    "def translate(hf_pl,language, text):\n",
    "    template = f\"\"\"Question:Translate the following text into {language}: {text}\n",
    "\n",
    "    TRASLATION: \"\"\"\n",
    "    prompt = PromptTemplate.from_template(template)\n",
    "\n",
    "    chain = prompt | hf_pl\n",
    "\n",
    "    response = chain.invoke({\"question\": text})\n",
    "    \n",
    "    return response.split('TRASLATION:')[1]\n",
    "\n",
    "\n"
   ]
  },
  {
   "cell_type": "code",
   "execution_count": null,
   "metadata": {
    "application/vnd.databricks.v1+cell": {
     "cellMetadata": {
      "byteLimit": 2048000,
      "rowLimit": 10000
     },
     "inputWidgets": {},
     "nuid": "316caced-2131-40f2-b6fe-cea7a7de9c4a",
     "showTitle": false,
     "title": ""
    }
   },
   "outputs": [],
   "source": [
    "def rephrase(hf_pl, text):\n",
    "    template = f\"\"\"Question: rephrase the following text - {text}\n",
    "    REPHRASE: \"\"\"\n",
    "    prompt = PromptTemplate.from_template(template)\n",
    "\n",
    "    chain = prompt | hf_pl\n",
    "\n",
    "    response = chain.invoke({\"question\": text})\n",
    "    \n",
    "    return response.split('REPHRASE:')[1]"
   ]
  },
  {
   "cell_type": "code",
   "execution_count": null,
   "metadata": {
    "application/vnd.databricks.v1+cell": {
     "cellMetadata": {
      "byteLimit": 2048000,
      "rowLimit": 10000
     },
     "inputWidgets": {},
     "nuid": "25a3e9ed-4857-474c-b0da-450ba92c2ab2",
     "showTitle": false,
     "title": ""
    }
   },
   "outputs": [
    {
     "data": {
      "text/plain": [
       "' \\n\\n    Voy a la café next door y pido un sándwich'"
      ]
     },
     "execution_count": 65,
     "metadata": {},
     "output_type": "execute_result"
    }
   ],
   "source": [
    "translate(hfp,'spanish','I went to the coffe next door and order a sandwitch ')"
   ]
  },
  {
   "cell_type": "code",
   "execution_count": null,
   "metadata": {
    "application/vnd.databricks.v1+cell": {
     "cellMetadata": {
      "byteLimit": 2048000,
      "rowLimit": 10000
     },
     "inputWidgets": {},
     "nuid": "dd0bae25-6c98-4319-aa5d-cb0f2cdc8960",
     "showTitle": false,
     "title": ""
    }
   },
   "outputs": [
    {
     "data": {
      "text/plain": [
       "'  I made my way to a nearby coffee establishment and placed an order for a sandwich.'"
      ]
     },
     "execution_count": 66,
     "metadata": {},
     "output_type": "execute_result"
    }
   ],
   "source": [
    "rephrase(hfp,'I went to the coffe next door and order a sandwitch ')"
   ]
  },
  {
   "cell_type": "markdown",
   "metadata": {
    "application/vnd.databricks.v1+cell": {
     "cellMetadata": {},
     "inputWidgets": {},
     "nuid": "bb9da10f-f70e-4829-8f5d-2f2ad57b2d23",
     "showTitle": false,
     "title": ""
    }
   },
   "source": [
    "# Augmentation"
   ]
  },
  {
   "cell_type": "code",
   "execution_count": null,
   "metadata": {
    "application/vnd.databricks.v1+cell": {
     "cellMetadata": {
      "byteLimit": 2048000,
      "rowLimit": 10000
     },
     "inputWidgets": {},
     "nuid": "6883be8f-3f72-4433-bf3b-ef05bd9e3893",
     "showTitle": false,
     "title": ""
    }
   },
   "outputs": [
    {
     "name": "stderr",
     "output_type": "stream",
     "text": [
      "/databricks/python_shell/dbruntime/huggingface_patches/datasets.py:27: UserWarning: This dataset can not be stored in DBFS because either `cache_dir` or the environment variable `HF_DATASETS_CACHE` is set to a non-DBFS path. If this cluster restarts, all saved dataset information will be lost.\n",
      "  warnings.warn(\n"
     ]
    },
    {
     "data": {
      "application/vnd.jupyter.widget-view+json": {
       "model_id": "7f860e6b7df34300863df72214c44ad5",
       "version_major": 2,
       "version_minor": 0
      },
      "text/plain": [
       "Downloading readme:   0%|          | 0.00/31.0 [00:00<?, ?B/s]"
      ]
     },
     "metadata": {},
     "output_type": "display_data"
    },
    {
     "name": "stderr",
     "output_type": "stream",
     "text": [
      "/databricks/python_shell/dbruntime/huggingface_patches/datasets.py:13: UserWarning: During large dataset downloads, there could be multiple progress bar widgets that can cause performance issues for your notebook or browser. To avoid these issues, use `datasets.utils.logging.disable_progress_bar()` to turn off the progress bars.\n",
      "  warnings.warn(\n"
     ]
    },
    {
     "data": {
      "application/vnd.jupyter.widget-view+json": {
       "model_id": "56937dcd45dd40c7927cdc1b3d58a81c",
       "version_major": 2,
       "version_minor": 0
      },
      "text/plain": [
       "Downloading data files:   0%|          | 0/1 [00:00<?, ?it/s]"
      ]
     },
     "metadata": {},
     "output_type": "display_data"
    },
    {
     "data": {
      "application/vnd.jupyter.widget-view+json": {
       "model_id": "932aa07f23a54e58aea8249581bb5772",
       "version_major": 2,
       "version_minor": 0
      },
      "text/plain": [
       "Downloading data:   0%|          | 0.00/377k [00:00<?, ?B/s]"
      ]
     },
     "metadata": {},
     "output_type": "display_data"
    },
    {
     "data": {
      "application/vnd.jupyter.widget-view+json": {
       "model_id": "a7fc6ad118ea4db4b38de0d03c0fcf02",
       "version_major": 2,
       "version_minor": 0
      },
      "text/plain": [
       "Extracting data files:   0%|          | 0/1 [00:00<?, ?it/s]"
      ]
     },
     "metadata": {},
     "output_type": "display_data"
    },
    {
     "data": {
      "application/vnd.jupyter.widget-view+json": {
       "model_id": "1fcf073aa74342b99736d92b274ebbef",
       "version_major": 2,
       "version_minor": 0
      },
      "text/plain": [
       "Generating train split: 0 examples [00:00, ? examples/s]"
      ]
     },
     "metadata": {},
     "output_type": "display_data"
    }
   ],
   "source": [
    "from datasets import load_dataset\n",
    "dataset = load_dataset(\"darrow-ai/LegalLensNLI-SharedTask\")"
   ]
  },
  {
   "cell_type": "code",
   "execution_count": null,
   "metadata": {
    "application/vnd.databricks.v1+cell": {
     "cellMetadata": {
      "byteLimit": 2048000,
      "rowLimit": 10000
     },
     "inputWidgets": {},
     "nuid": "ec43242e-7b6e-460d-ade7-b7c54d9b5fda",
     "showTitle": false,
     "title": ""
    }
   },
   "outputs": [],
   "source": [
    "df = pd.DataFrame(data = dataset)"
   ]
  },
  {
   "cell_type": "code",
   "execution_count": null,
   "metadata": {
    "application/vnd.databricks.v1+cell": {
     "cellMetadata": {
      "byteLimit": 2048000,
      "rowLimit": 10000
     },
     "inputWidgets": {},
     "nuid": "1328a7b3-d5bc-4e54-9ed1-917e31cd770f",
     "showTitle": false,
     "title": ""
    }
   },
   "outputs": [],
   "source": [
    "rows = []\n",
    "for row in df.iterrows():\n",
    "    new_row = [(row[1]['train']['premise']),(row[1]['train']['hypothesis']),(row[1]['train']['legal_act']),(row[1]['train']['label'])]\n",
    "    rows.append(new_row)"
   ]
  },
  {
   "cell_type": "code",
   "execution_count": null,
   "metadata": {
    "application/vnd.databricks.v1+cell": {
     "cellMetadata": {
      "byteLimit": 2048000,
      "rowLimit": 10000
     },
     "inputWidgets": {},
     "nuid": "0faf027e-aaeb-4cf8-b43c-8145cdfb07cb",
     "showTitle": false,
     "title": ""
    }
   },
   "outputs": [],
   "source": [
    "df_new = pd.DataFrame(rows,columns=['premise','hypothesis','legal_act','label'])"
   ]
  },
  {
   "cell_type": "code",
   "execution_count": null,
   "metadata": {
    "application/vnd.databricks.v1+cell": {
     "cellMetadata": {
      "byteLimit": 2048000,
      "rowLimit": 10000
     },
     "inputWidgets": {},
     "nuid": "585dd943-bc08-4152-a683-8d24ef24138e",
     "showTitle": false,
     "title": ""
    }
   },
   "outputs": [],
   "source": [
    "df_new_tmp = df_new.head(25)"
   ]
  },
  {
   "cell_type": "code",
   "execution_count": null,
   "metadata": {
    "application/vnd.databricks.v1+cell": {
     "cellMetadata": {
      "byteLimit": 2048000,
      "rowLimit": 10000
     },
     "inputWidgets": {},
     "nuid": "89288497-5ebf-4f58-92ae-38310a652f0d",
     "showTitle": false,
     "title": ""
    }
   },
   "outputs": [],
   "source": [
    "def handle_bulk(text_lst,chain):\n",
    "    input = [ {'text':txt} for txt in text_lst ]\n",
    "    response =chain.batch(input)\n",
    "    extracted_output = [res.split('OUTPUT:')[1] for res in response]\n",
    "    return extracted_output\n"
   ]
  },
  {
   "cell_type": "code",
   "execution_count": null,
   "metadata": {
    "application/vnd.databricks.v1+cell": {
     "cellMetadata": {
      "byteLimit": 2048000,
      "rowLimit": 10000
     },
     "inputWidgets": {},
     "nuid": "40fa221e-9f7d-4bb7-9671-30fdce07a883",
     "showTitle": false,
     "title": ""
    }
   },
   "outputs": [],
   "source": [
    "def generate_text_batch(df,in_col, out_col, chain, batch_size=4):\n",
    "    genereated_texts = []\n",
    "    for i in range(0, len(df), batch_size):\n",
    "        batch = df[in_col].iloc[i:i+batch_size].tolist()\n",
    "        translated_batch = handle_bulk(batch, chain)\n",
    "        genereated_texts.extend(translated_batch)\n",
    "    \n",
    "    df[out_col] = genereated_texts\n",
    "    return df\n"
   ]
  },
  {
   "cell_type": "code",
   "execution_count": null,
   "metadata": {
    "application/vnd.databricks.v1+cell": {
     "cellMetadata": {
      "byteLimit": 2048000,
      "rowLimit": 10000
     },
     "inputWidgets": {},
     "nuid": "e66bd693-da6b-474e-b0d9-6a469b98a7d6",
     "showTitle": false,
     "title": ""
    }
   },
   "outputs": [],
   "source": [
    "df_new = generate_text_batch(df_new,'hypothesis','hypothesis_rephrased',chain_rephrase,6)"
   ]
  },
  {
   "cell_type": "code",
   "execution_count": null,
   "metadata": {
    "application/vnd.databricks.v1+cell": {
     "cellMetadata": {
      "byteLimit": 2048000,
      "rowLimit": 10000
     },
     "inputWidgets": {},
     "nuid": "62fc326c-178c-4b4b-ace9-7ef9f7025c7f",
     "showTitle": false,
     "title": ""
    }
   },
   "outputs": [],
   "source": [
    "df_new = generate_text_batch(df_new,'premise','premise_rephrased',chain_rephrase,6)"
   ]
  },
  {
   "cell_type": "code",
   "execution_count": null,
   "metadata": {
    "application/vnd.databricks.v1+cell": {
     "cellMetadata": {
      "byteLimit": 2048000,
      "rowLimit": 10000
     },
     "inputWidgets": {},
     "nuid": "e21c7d37-834f-48b7-b3f0-90d163a2fb06",
     "showTitle": false,
     "title": ""
    }
   },
   "outputs": [],
   "source": [
    "df_new = generate_text_batch(df_new,'premise','premise_translated',chain_translate,6)"
   ]
  },
  {
   "cell_type": "code",
   "execution_count": null,
   "metadata": {
    "application/vnd.databricks.v1+cell": {
     "cellMetadata": {
      "byteLimit": 2048000,
      "rowLimit": 10000
     },
     "inputWidgets": {},
     "nuid": "9f2d9669-4791-4f34-8066-005ba0c10ab8",
     "showTitle": false,
     "title": ""
    }
   },
   "outputs": [],
   "source": [
    "df_new = generate_text_batch(df_new,'hypothesis','hypothesis_translated',chain_translate,6)"
   ]
  },
  {
   "cell_type": "code",
   "execution_count": null,
   "metadata": {
    "application/vnd.databricks.v1+cell": {
     "cellMetadata": {
      "byteLimit": 2048000,
      "rowLimit": 10000
     },
     "inputWidgets": {},
     "nuid": "9c1e8203-9cb9-4d88-bcd7-7aeeb2cdc2e6",
     "showTitle": false,
     "title": ""
    }
   },
   "outputs": [],
   "source": [
    "df_new.to_csv('/root/darrow-data-lake/csv/nli_aug_raw.csv',index=False)"
   ]
  },
  {
   "cell_type": "code",
   "execution_count": null,
   "metadata": {
    "application/vnd.databricks.v1+cell": {
     "cellMetadata": {
      "byteLimit": 2048000,
      "rowLimit": 10000
     },
     "inputWidgets": {},
     "nuid": "3fceeb03-63b0-4b9a-8606-f9f1fd4c7391",
     "showTitle": false,
     "title": ""
    }
   },
   "outputs": [
    {
     "data": {
      "text/html": [
       "<div>\n",
       "<style scoped>\n",
       "    .dataframe tbody tr th:only-of-type {\n",
       "        vertical-align: middle;\n",
       "    }\n",
       "\n",
       "    .dataframe tbody tr th {\n",
       "        vertical-align: top;\n",
       "    }\n",
       "\n",
       "    .dataframe thead th {\n",
       "        text-align: right;\n",
       "    }\n",
       "</style>\n",
       "<table border=\"1\" class=\"dataframe\">\n",
       "  <thead>\n",
       "    <tr style=\"text-align: right;\">\n",
       "      <th></th>\n",
       "      <th>premise</th>\n",
       "      <th>hypothesis</th>\n",
       "      <th>legal_act</th>\n",
       "      <th>label</th>\n",
       "      <th>hypothesis_rephrased</th>\n",
       "      <th>premise_rephrased</th>\n",
       "      <th>premise_translated</th>\n",
       "      <th>hypothesis_translated</th>\n",
       "    </tr>\n",
       "  </thead>\n",
       "  <tbody>\n",
       "    <tr>\n",
       "      <th>0</th>\n",
       "      <td>DEFENDANT has reached a settlement in a class ...</td>\n",
       "      <td>Had to visit DEFENDANT a while back for some r...</td>\n",
       "      <td>privacy</td>\n",
       "      <td>Neutral</td>\n",
       "      <td>Recently, I went to see DEFENDANT to have som...</td>\n",
       "      <td>The class action lawsuit concerning the data ...</td>\n",
       "      <td>EL DEFENDENT ha alcanzado un acuerdo de asent...</td>\n",
       "      <td>Tuví que visitar a DEFENDANTE recientes para ...</td>\n",
       "    </tr>\n",
       "    <tr>\n",
       "      <th>1</th>\n",
       "      <td>A class action lawsuit has been certified agai...</td>\n",
       "      <td>So, at 22, I was into this whole \"collect-and-...</td>\n",
       "      <td>consumer_protection</td>\n",
       "      <td>Entailed</td>\n",
       "      <td>At 22 years old, I was into the \"collect-and-...</td>\n",
       "      <td>A class action suit has been sanctioned again...</td>\n",
       "      <td>\\nLa demanda de acción colectiva ha sido certi...</td>\n",
       "      <td>Así, a los 22 años, estaba en este tendido de...</td>\n",
       "    </tr>\n",
       "    <tr>\n",
       "      <th>2</th>\n",
       "      <td>DEFENDANT, an auto parts supplier, has agreed ...</td>\n",
       "      <td>As an employee of the aforementioned auto part...</td>\n",
       "      <td>consumer_protection</td>\n",
       "      <td>Contradict</td>\n",
       "      <td>As an employee of an auto parts supplier, I h...</td>\n",
       "      <td>DEFENDANT, a business that sells automotive p...</td>\n",
       "      <td>DEFENDENT se ha comprometido por pagar $950,0...</td>\n",
       "      <td>Como empleado de la empresa de suministros de...</td>\n",
       "    </tr>\n",
       "    <tr>\n",
       "      <th>3</th>\n",
       "      <td>DEFENDANT has agreed to pay $400,000 to settle...</td>\n",
       "      <td>Hey, got a call from DEFENDANT a while back, s...</td>\n",
       "      <td>privacy</td>\n",
       "      <td>Contradict</td>\n",
       "      <td>Hi there, just wanted to let you in on the fa...</td>\n",
       "      <td>The settlement amount for a lawsuit filed by ...</td>\n",
       "      <td>\\nEl DEFENSO ha acordado pagar $400,000 para r...</td>\n",
       "      <td>Hola, me llegí una trucada d'ACUSADO fa algun...</td>\n",
       "    </tr>\n",
       "    <tr>\n",
       "      <th>4</th>\n",
       "      <td>DEFENDANT and other health benefit companies h...</td>\n",
       "      <td>Just checked my mail, got a letter from DEFEND...</td>\n",
       "      <td>privacy</td>\n",
       "      <td>Neutral</td>\n",
       "      <td>I have just reviewed my emails and found a le...</td>\n",
       "      <td>The health benefit companies including DEFEND...</td>\n",
       "      <td>Los partidos defensor y otras empresas de ben...</td>\n",
       "      <td>Sobre la última hora comprobé mi correo elect...</td>\n",
       "    </tr>\n",
       "    <tr>\n",
       "      <th>...</th>\n",
       "      <td>...</td>\n",
       "      <td>...</td>\n",
       "      <td>...</td>\n",
       "      <td>...</td>\n",
       "      <td>...</td>\n",
       "      <td>...</td>\n",
       "      <td>...</td>\n",
       "      <td>...</td>\n",
       "    </tr>\n",
       "    <tr>\n",
       "      <th>307</th>\n",
       "      <td>DEFENDANT has reached a settlement in a breach...</td>\n",
       "      <td>Feeling a bit perplexed today. I've been a loy...</td>\n",
       "      <td>consumer_protection</td>\n",
       "      <td>Entailed</td>\n",
       "      <td>Today, I am slightly bewildered. I have been ...</td>\n",
       "      <td>The defendant in a breach of contract class a...</td>\n",
       "      <td>El DEFENDENT ha llegat a un acord de compromí...</td>\n",
       "      <td>Sintiendo un poco confundido hoy en día. He e...</td>\n",
       "    </tr>\n",
       "    <tr>\n",
       "      <th>308</th>\n",
       "      <td>DEFENDANT, a seafood restaurant operator in Ca...</td>\n",
       "      <td>Had a fantastic seafood dinner at this place l...</td>\n",
       "      <td>privacy</td>\n",
       "      <td>Neutral</td>\n",
       "      <td>Last night, I had an amazing seafood dinner a...</td>\n",
       "      <td>A seafood restaurant company known as DEFENDA...</td>\n",
       "      <td>\\n\\nLa compañía DEFENDANT, operador de restaur...</td>\n",
       "      <td>Tení una increíble cena de marisco anoche en ...</td>\n",
       "    </tr>\n",
       "    <tr>\n",
       "      <th>309</th>\n",
       "      <td>Consumers who received promotional text messag...</td>\n",
       "      <td>Hardly ever use my phone for anything other th...</td>\n",
       "      <td>tcpa</td>\n",
       "      <td>Neutral</td>\n",
       "      <td>Rarely, I use my phone for purposes other tha...</td>\n",
       "      <td>\\nIndividuals in the United States who receive...</td>\n",
       "      <td>Consumers quien recibieron mensajes de promoc...</td>\n",
       "      <td>Raramente uso mi teléfono para nada más que l...</td>\n",
       "    </tr>\n",
       "    <tr>\n",
       "      <th>310</th>\n",
       "      <td>DEFENDANT, a restaurant point-of-sale provider...</td>\n",
       "      <td>Upon my daily visits to the local diner, I fre...</td>\n",
       "      <td>privacy</td>\n",
       "      <td>Entailed</td>\n",
       "      <td>During my routine visits to the neighborhood ...</td>\n",
       "      <td>DEFENDANT, a restaurant point-of-sale provide...</td>\n",
       "      <td>EL DEFENSIÓN, un proveedor de sistemas de pun...</td>\n",
       "      <td>Durante mis visitas diarias al restaurante lo...</td>\n",
       "    </tr>\n",
       "    <tr>\n",
       "      <th>311</th>\n",
       "      <td>DEFENDANT, an automotive, industrial, and comm...</td>\n",
       "      <td>Working at DEFENDANT, clocking in with a simpl...</td>\n",
       "      <td>privacy</td>\n",
       "      <td>Entailed</td>\n",
       "      <td>It was innovative to work at DEFENDANT and cl...</td>\n",
       "      <td>DEFENSEANT, a supplier of automotive, industr...</td>\n",
       "      <td>DEFENDENT, un proveedor de lubricantes para e...</td>\n",
       "      <td>Trabajando en DEFENDENT, registros con un esc...</td>\n",
       "    </tr>\n",
       "  </tbody>\n",
       "</table>\n",
       "<p>312 rows × 8 columns</p>\n",
       "</div>"
      ],
      "text/plain": [
       "                                               premise  ...                              hypothesis_translated\n",
       "0    DEFENDANT has reached a settlement in a class ...  ...   Tuví que visitar a DEFENDANTE recientes para ...\n",
       "1    A class action lawsuit has been certified agai...  ...   Así, a los 22 años, estaba en este tendido de...\n",
       "2    DEFENDANT, an auto parts supplier, has agreed ...  ...   Como empleado de la empresa de suministros de...\n",
       "3    DEFENDANT has agreed to pay $400,000 to settle...  ...   Hola, me llegí una trucada d'ACUSADO fa algun...\n",
       "4    DEFENDANT and other health benefit companies h...  ...   Sobre la última hora comprobé mi correo elect...\n",
       "..                                                 ...  ...                                                ...\n",
       "307  DEFENDANT has reached a settlement in a breach...  ...   Sintiendo un poco confundido hoy en día. He e...\n",
       "308  DEFENDANT, a seafood restaurant operator in Ca...  ...   Tení una increíble cena de marisco anoche en ...\n",
       "309  Consumers who received promotional text messag...  ...   Raramente uso mi teléfono para nada más que l...\n",
       "310  DEFENDANT, a restaurant point-of-sale provider...  ...   Durante mis visitas diarias al restaurante lo...\n",
       "311  DEFENDANT, an automotive, industrial, and comm...  ...   Trabajando en DEFENDENT, registros con un esc...\n",
       "\n",
       "[312 rows x 8 columns]"
      ]
     },
     "execution_count": 127,
     "metadata": {},
     "output_type": "execute_result"
    }
   ],
   "source": [
    "df_new"
   ]
  },
  {
   "cell_type": "markdown",
   "metadata": {
    "application/vnd.databricks.v1+cell": {
     "cellMetadata": {},
     "inputWidgets": {},
     "nuid": "8a10eb9b-b772-4903-993c-a8ca7f8b290b",
     "showTitle": false,
     "title": ""
    }
   },
   "source": [
    "### Concat Results "
   ]
  },
  {
   "cell_type": "code",
   "execution_count": null,
   "metadata": {
    "application/vnd.databricks.v1+cell": {
     "cellMetadata": {
      "byteLimit": 2048000,
      "rowLimit": 10000
     },
     "inputWidgets": {},
     "nuid": "27e5787a-2ae2-407f-9507-8c3c93ec9ea0",
     "showTitle": false,
     "title": ""
    }
   },
   "outputs": [
    {
     "name": "stderr",
     "output_type": "stream",
     "text": [
      "/root/.ipykernel/2531/command-3371427619778138-3529435739:2: SettingWithCopyWarning: \n",
      "A value is trying to be set on a copy of a slice from a DataFrame.\n",
      "Try using .loc[row_indexer,col_indexer] = value instead\n",
      "\n",
      "See the caveats in the documentation: https://pandas.pydata.org/pandas-docs/stable/user_guide/indexing.html#returning-a-view-versus-a-copy\n",
      "  df_origin['augmentation'] = 'origin'\n"
     ]
    }
   ],
   "source": [
    "df_origin = df_new[['premise','hypothesis','legal_act','label']]\n",
    "df_origin['augmentation'] = 'origin'\n",
    "\n",
    "df_translate = df_new[['premise_translated','hypothesis_translated','legal_act','label']].rename(columns={'premise_translated':'premise','hypothesis_translated':'hypothesis'})\n",
    "df_translate['augmentation'] = 'translation'\n",
    "\n",
    "df_rephrase = df_new[['premise_rephrased','hypothesis_rephrased','legal_act','label']].rename(columns={'premise_rephrased':'premise','hypothesis_rephrased':'hypothesis'})\n",
    "df_rephrase['augmentation'] = 'rephrase'"
   ]
  },
  {
   "cell_type": "code",
   "execution_count": null,
   "metadata": {
    "application/vnd.databricks.v1+cell": {
     "cellMetadata": {
      "byteLimit": 2048000,
      "rowLimit": 10000
     },
     "inputWidgets": {},
     "nuid": "2f44e0a5-55bb-4cc5-8c61-c24c4a97dad3",
     "showTitle": false,
     "title": ""
    }
   },
   "outputs": [],
   "source": [
    "pd.concat([df_origin,df_translate,df_rephrase]).to_csv('nli_aug.csv',index=False)"
   ]
  },
  {
   "cell_type": "code",
   "execution_count": null,
   "metadata": {},
   "outputs": [],
   "source": []
  }
 ],
 "metadata": {
  "application/vnd.databricks.v1+notebook": {
   "dashboards": [],
   "environmentMetadata": null,
   "language": "python",
   "notebookMetadata": {
    "pythonIndentUnit": 4
   },
   "notebookName": "CaseOutcome_baseline",
   "widgets": {}
  },
  "kernelspec": {
   "display_name": "Python 3 (ipykernel)",
   "language": "python",
   "name": "python3"
  },
  "language_info": {
   "codemirror_mode": {
    "name": "ipython",
    "version": 3
   },
   "file_extension": ".py",
   "mimetype": "text/x-python",
   "name": "python",
   "nbconvert_exporter": "python",
   "pygments_lexer": "ipython3",
   "version": "3.12.0"
  }
 },
 "nbformat": 4,
 "nbformat_minor": 4
}
